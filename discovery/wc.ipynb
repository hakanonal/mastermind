{
 "metadata": {
  "language_info": {
   "codemirror_mode": {
    "name": "ipython",
    "version": 3
   },
   "file_extension": ".py",
   "mimetype": "text/x-python",
   "name": "python",
   "nbconvert_exporter": "python",
   "pygments_lexer": "ipython3",
   "version": "3.7.2-final"
  },
  "orig_nbformat": 2,
  "kernelspec": {
   "name": "python3",
   "display_name": "Python 3",
   "language": "python"
  }
 },
 "nbformat": 4,
 "nbformat_minor": 2,
 "cells": [
  {
   "source": [
    "# Worst Case Scenerio Discovery Experiment Notebook\n",
    "\n",
    "First I need to create the entire possible guess set."
   ],
   "cell_type": "markdown",
   "metadata": {}
  },
  {
   "source": [
    "Simple range is not enough hence it includes all the numbers that thier digits include the non-included peg number. When check the count of this range it gives 5556. I need 6^4=1296 different numbers."
   ],
   "cell_type": "markdown",
   "metadata": {}
  },
  {
   "cell_type": "code",
   "execution_count": null,
   "metadata": {},
   "outputs": [],
   "source": [
    "S = set(range(1111,6667))\n",
    "len(S)"
   ]
  },
  {
   "source": [
    "So I checked go over this numbers and add them to another list where any digit's is includes invalid digits."
   ],
   "cell_type": "markdown",
   "metadata": {}
  },
  {
   "cell_type": "code",
   "execution_count": null,
   "metadata": {},
   "outputs": [],
   "source": [
    "invalid_digits = {'0','7','8','9'}\n",
    "invalid_digit_included_codes = []\n",
    "for i,v in enumerate(S):\n",
    "    vs = str(v)\n",
    "    for invalid_digit in invalid_digits:\n",
    "        if(invalid_digit in vs):\n",
    "            invalid_digit_included_codes.append(v)"
   ]
  },
  {
   "source": [
    "When I convert it to set I get the unwanted codes is a set."
   ],
   "cell_type": "markdown",
   "metadata": {}
  },
  {
   "cell_type": "code",
   "execution_count": null,
   "metadata": {},
   "outputs": [],
   "source": [
    "Si = set(invalid_digit_included_codes)\n",
    "len(Si)"
   ]
  },
  {
   "source": [
    "When we subtract the invalid set from our ogirinal set we got the complete action space."
   ],
   "cell_type": "markdown",
   "metadata": {}
  },
  {
   "cell_type": "code",
   "execution_count": null,
   "metadata": {},
   "outputs": [],
   "source": [
    "len(S-Si)"
   ]
  },
  {
   "source": [
    "However I would like to paramitize digit and peg counts. So if my config is like that."
   ],
   "cell_type": "markdown",
   "metadata": {}
  },
  {
   "cell_type": "code",
   "execution_count": null,
   "metadata": {},
   "outputs": [],
   "source": [
    "config = {\n",
    "    'discount': 0.95,\n",
    "    'exploration_rate':0.9,\n",
    "    'decay_factor':0.99,\n",
    "    'learning_rate':0.001,\n",
    "    'episode':10000,\n",
    "    'debug' : 0,\n",
    "    'chances' : 12,\n",
    "    'digits' : 4,\n",
    "    'peg_count': 6,\n",
    "    'mode' : 'ai' # ai | user\n",
    "}"
   ]
  },
  {
   "source": [
    "this is peg set"
   ],
   "cell_type": "markdown",
   "metadata": {}
  },
  {
   "cell_type": "code",
   "execution_count": null,
   "metadata": {},
   "outputs": [],
   "source": [
    "peg_list = set([str(i) for i in range(1,config['peg_count']+1)])\n",
    "peg_list"
   ]
  },
  {
   "source": [
    "this is all digit set"
   ],
   "cell_type": "markdown",
   "metadata": {}
  },
  {
   "cell_type": "code",
   "execution_count": null,
   "metadata": {},
   "outputs": [],
   "source": [
    "all_digits = set([str(i) for i in range(10)])\n",
    "all_digits"
   ]
  },
  {
   "source": [
    "invalid digits set is like that"
   ],
   "cell_type": "markdown",
   "metadata": {}
  },
  {
   "cell_type": "code",
   "execution_count": null,
   "metadata": {},
   "outputs": [],
   "source": [
    "invalid_pegs = all_digits-peg_list\n",
    "invalid_pegs"
   ]
  },
  {
   "source": [
    "what about the complete set which ranges from 1111 tto 6666\n",
    "this should be the minimum"
   ],
   "cell_type": "markdown",
   "metadata": {}
  },
  {
   "cell_type": "code",
   "execution_count": null,
   "metadata": {},
   "outputs": [],
   "source": [
    "minimum = int(\"\".join([str(1) for i in range(config['digits'])]))\n",
    "minimum"
   ]
  },
  {
   "source": [
    "and this should be maximum"
   ],
   "cell_type": "markdown",
   "metadata": {}
  },
  {
   "cell_type": "code",
   "execution_count": null,
   "metadata": {},
   "outputs": [],
   "source": [
    "maximum = int(\"\".join([str(len(peg_list)) for i in range(config['digits'])]))\n",
    "maximum"
   ]
  },
  {
   "source": [
    "so the range will be"
   ],
   "cell_type": "markdown",
   "metadata": {}
  },
  {
   "cell_type": "code",
   "execution_count": null,
   "metadata": {},
   "outputs": [],
   "source": [
    "S = set(range(minimum,maximum+1))\n",
    "len(S)"
   ]
  },
  {
   "source": [
    "to wrap to find the action space set into single cell here:"
   ],
   "cell_type": "markdown",
   "metadata": {}
  },
  {
   "cell_type": "code",
   "execution_count": 1,
   "metadata": {},
   "outputs": [
    {
     "output_type": "execute_result",
     "data": {
      "text/plain": [
       "1296"
      ]
     },
     "metadata": {},
     "execution_count": 1
    }
   ],
   "source": [
    "config = {\n",
    "    'discount': 0.95,\n",
    "    'exploration_rate':0.9,\n",
    "    'decay_factor':0.99,\n",
    "    'learning_rate':0.001,\n",
    "    'episode':10000,\n",
    "    'debug' : 0,\n",
    "    'chances' : 12,\n",
    "    'digits' : 4,\n",
    "    'peg_count': 6,\n",
    "    'mode' : 'ai' # ai | user\n",
    "}\n",
    "\n",
    "peg_set = set([str(i) for i in range(1,config['peg_count']+1)])\n",
    "all_digits_set = set([str(i) for i in range(10)])\n",
    "invalid_digit_set = all_digits_set-peg_set\n",
    "minimum = int(\"\".join([str(1) for i in range(config['digits'])]))\n",
    "maximum = int(\"\".join([str(len(peg_set)) for i in range(config['digits'])]))\n",
    "S = set(range(minimum,maximum+1))\n",
    "\n",
    "invalid_digit_included_codes = []\n",
    "for v in S:\n",
    "    vs = str(v)\n",
    "    for invalid_digit in invalid_digit_set:\n",
    "        if(invalid_digit in vs):\n",
    "            invalid_digit_included_codes.append(v)\n",
    "S = S - set(invalid_digit_included_codes)\n",
    "len(S)"
   ]
  },
  {
   "cell_type": "code",
   "execution_count": null,
   "metadata": {},
   "outputs": [],
   "source": []
  }
 ]
}