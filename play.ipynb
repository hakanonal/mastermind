{
 "metadata": {
  "language_info": {
   "codemirror_mode": {
    "name": "ipython",
    "version": 3
   },
   "file_extension": ".py",
   "mimetype": "text/x-python",
   "name": "python",
   "nbconvert_exporter": "python",
   "pygments_lexer": "ipython3",
   "version": "3.7.2-final"
  },
  "orig_nbformat": 2,
  "kernelspec": {
   "name": "python3",
   "display_name": "Python 3"
  }
 },
 "nbformat": 4,
 "nbformat_minor": 2,
 "cells": [
  {
   "source": [
    "# Welcome to Mastermind\n",
    "\n",
    "To learn the game rules please follow [this](https://en.wikipedia.org/wiki/Mastermind_(board_game) link.\n",
    "\n",
    "You can configure the game rules by changing the chances, digits and peg_count parameters below. Ignore the other parameters.\n",
    "\n",
    "- chances: Number of maximum guesses. The default is 12 which means you can guess 12 code to win. If you can not guess all 12 codes you loose. You can decrease this value to make it harder.\n",
    "- digits: Length of each code. The default is 4\n",
    "- peg_count: Number of avaible different pegs. Detault is 6. \n",
    "\n",
    "With the default parameters you can guess maximum 12 4 digit integers where each digit of the integers must be between 1 and 6 (1 and 6 included)\n",
    "\n",
    "Press the play button for the following section. Have fun!..."
   ],
   "cell_type": "markdown",
   "metadata": {}
  },
  {
   "cell_type": "code",
   "execution_count": null,
   "metadata": {},
   "outputs": [],
   "source": [
    "from ai.environment import environment\n",
    "import os\n",
    "\n",
    "config = {\n",
    "    'discount': 0.95,\n",
    "    'exploration_rate':0.9,\n",
    "    'decay_factor':0.99,\n",
    "    'learning_rate':0.01,\n",
    "    'episode':1000,\n",
    "    'debug' : 0,\n",
    "    'chances' : 12, # Number of maximum gueses\n",
    "    'digits' : 4, # Length of a single code\n",
    "    'peg_count': 6, # Number of pegs. Means:\n",
    "    'mode' : 'user' # ai | user\n",
    "}\n",
    "\n",
    "os.environ['WANDB_MODE'] = 'dryrun'\n",
    "\n",
    "e = environment(config=config)\n",
    "\n",
    "e.start()"
   ]
  }
 ]
}